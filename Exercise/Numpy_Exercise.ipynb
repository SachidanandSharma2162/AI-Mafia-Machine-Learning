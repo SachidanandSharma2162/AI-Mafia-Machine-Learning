{
  "cells": [
    {
      "cell_type": "markdown",
      "metadata": {
        "id": "8WARVAEnLyuc"
      },
      "source": [
        "# Numpy Exercise"
      ]
    },
    {
      "cell_type": "markdown",
      "metadata": {
        "id": "7RhbTCbFLyuh"
      },
      "source": [
        "#### 1. Import the numpy package under the name as np  "
      ]
    },
    {
      "cell_type": "code",
      "execution_count": 48,
      "metadata": {
        "collapsed": true,
        "id": "vddjhF4-Lyuk"
      },
      "outputs": [],
      "source": [
        "import numpy as np"
      ]
    },
    {
      "cell_type": "markdown",
      "metadata": {
        "id": "CIHcLpW8Lyum"
      },
      "source": [
        "#### 2. Print the numpy version and the configuration"
      ]
    },
    {
      "cell_type": "code",
      "execution_count": 49,
      "metadata": {
        "id": "kc32b48fLyuo",
        "colab": {
          "base_uri": "https://localhost:8080/",
          "height": 35
        },
        "outputId": "a509f9cb-2630-46d9-e777-85586c9a5cc8"
      },
      "outputs": [
        {
          "output_type": "execute_result",
          "data": {
            "text/plain": [
              "'1.25.2'"
            ],
            "application/vnd.google.colaboratory.intrinsic+json": {
              "type": "string"
            }
          },
          "metadata": {},
          "execution_count": 49
        }
      ],
      "source": [
        "np.__version__"
      ]
    },
    {
      "cell_type": "markdown",
      "metadata": {
        "id": "WJjS9D7NLyup"
      },
      "source": [
        "#### 3. Create a null vector of size 10"
      ]
    },
    {
      "cell_type": "code",
      "execution_count": 50,
      "metadata": {
        "id": "9i4ih7aOLyur",
        "colab": {
          "base_uri": "https://localhost:8080/"
        },
        "outputId": "efa9d449-6342-442c-fe61-02e2b1771364"
      },
      "outputs": [
        {
          "output_type": "stream",
          "name": "stdout",
          "text": [
            "[0. 0. 0. 0. 0. 0. 0. 0. 0. 0.]\n"
          ]
        }
      ],
      "source": [
        "vec=np.zeros(10)\n",
        "print(vec)"
      ]
    },
    {
      "cell_type": "markdown",
      "metadata": {
        "id": "g2bZuwVRLyus"
      },
      "source": [
        "#### 4.  How to find the memory size of any array"
      ]
    },
    {
      "cell_type": "code",
      "execution_count": 51,
      "metadata": {
        "id": "dQ56x5y6Lyuu",
        "colab": {
          "base_uri": "https://localhost:8080/"
        },
        "outputId": "517398b0-abd7-4606-f11a-fa4cc1fb1104"
      },
      "outputs": [
        {
          "output_type": "stream",
          "name": "stdout",
          "text": [
            "80\n"
          ]
        }
      ],
      "source": [
        "print(vec.nbytes)"
      ]
    },
    {
      "cell_type": "markdown",
      "metadata": {
        "id": "NGupn20DLyuv"
      },
      "source": [
        "#### 5.  How to get the documentation of the numpy add function from the command line?"
      ]
    },
    {
      "cell_type": "code",
      "execution_count": 52,
      "metadata": {
        "collapsed": true,
        "id": "DzzqeemXLyuw",
        "colab": {
          "base_uri": "https://localhost:8080/"
        },
        "outputId": "e5a0ff2c-6b89-461a-9033-dbf47ba46037"
      },
      "outputs": [
        {
          "output_type": "stream",
          "name": "stdout",
          "text": [
            "Help on ufunc:\n",
            "\n",
            "add = <ufunc 'add'>\n",
            "    add(x1, x2, /, out=None, *, where=True, casting='same_kind', order='K', dtype=None, subok=True[, signature, extobj])\n",
            "    \n",
            "    Add arguments element-wise.\n",
            "    \n",
            "    Parameters\n",
            "    ----------\n",
            "    x1, x2 : array_like\n",
            "        The arrays to be added.\n",
            "        If ``x1.shape != x2.shape``, they must be broadcastable to a common\n",
            "        shape (which becomes the shape of the output).\n",
            "    out : ndarray, None, or tuple of ndarray and None, optional\n",
            "        A location into which the result is stored. If provided, it must have\n",
            "        a shape that the inputs broadcast to. If not provided or None,\n",
            "        a freshly-allocated array is returned. A tuple (possible only as a\n",
            "        keyword argument) must have length equal to the number of outputs.\n",
            "    where : array_like, optional\n",
            "        This condition is broadcast over the input. At locations where the\n",
            "        condition is True, the `out` array will be set to the ufunc result.\n",
            "        Elsewhere, the `out` array will retain its original value.\n",
            "        Note that if an uninitialized `out` array is created via the default\n",
            "        ``out=None``, locations within it where the condition is False will\n",
            "        remain uninitialized.\n",
            "    **kwargs\n",
            "        For other keyword-only arguments, see the\n",
            "        :ref:`ufunc docs <ufuncs.kwargs>`.\n",
            "    \n",
            "    Returns\n",
            "    -------\n",
            "    add : ndarray or scalar\n",
            "        The sum of `x1` and `x2`, element-wise.\n",
            "        This is a scalar if both `x1` and `x2` are scalars.\n",
            "    \n",
            "    Notes\n",
            "    -----\n",
            "    Equivalent to `x1` + `x2` in terms of array broadcasting.\n",
            "    \n",
            "    Examples\n",
            "    --------\n",
            "    >>> np.add(1.0, 4.0)\n",
            "    5.0\n",
            "    >>> x1 = np.arange(9.0).reshape((3, 3))\n",
            "    >>> x2 = np.arange(3.0)\n",
            "    >>> np.add(x1, x2)\n",
            "    array([[  0.,   2.,   4.],\n",
            "           [  3.,   5.,   7.],\n",
            "           [  6.,   8.,  10.]])\n",
            "    \n",
            "    The ``+`` operator can be used as a shorthand for ``np.add`` on ndarrays.\n",
            "    \n",
            "    >>> x1 = np.arange(9.0).reshape((3, 3))\n",
            "    >>> x2 = np.arange(3.0)\n",
            "    >>> x1 + x2\n",
            "    array([[ 0.,  2.,  4.],\n",
            "           [ 3.,  5.,  7.],\n",
            "           [ 6.,  8., 10.]])\n",
            "\n"
          ]
        }
      ],
      "source": [
        "help(np.add)"
      ]
    },
    {
      "cell_type": "markdown",
      "metadata": {
        "id": "_pZFV8t0Lyux"
      },
      "source": [
        "#### 6.  Create a null vector of size 10 but the fifth value which is 1"
      ]
    },
    {
      "cell_type": "code",
      "execution_count": 53,
      "metadata": {
        "id": "v_hxOG_KLyuz",
        "colab": {
          "base_uri": "https://localhost:8080/"
        },
        "outputId": "156c9eb9-7d5e-48c2-e809-900f91b0c1b1"
      },
      "outputs": [
        {
          "output_type": "execute_result",
          "data": {
            "text/plain": [
              "array([0., 0., 0., 0., 1., 0., 0., 0., 0., 0.])"
            ]
          },
          "metadata": {},
          "execution_count": 53
        }
      ],
      "source": [
        "vec[4]=1\n",
        "vec"
      ]
    },
    {
      "cell_type": "markdown",
      "metadata": {
        "id": "WuV_ko7oLyuz"
      },
      "source": [
        "#### 7.  Create a vector with values ranging from 10 to 49"
      ]
    },
    {
      "cell_type": "code",
      "execution_count": 54,
      "metadata": {
        "id": "-lckWHdWLyu0",
        "colab": {
          "base_uri": "https://localhost:8080/"
        },
        "outputId": "b74b0602-437c-43a4-99af-9213e41e6e26"
      },
      "outputs": [
        {
          "output_type": "execute_result",
          "data": {
            "text/plain": [
              "array([10, 11, 12, 13, 14, 15, 16, 17, 18, 19, 20, 21, 22, 23, 24, 25, 26,\n",
              "       27, 28, 29, 30, 31, 32, 33, 34, 35, 36, 37, 38, 39, 40, 41, 42, 43,\n",
              "       44, 45, 46, 47, 48, 49])"
            ]
          },
          "metadata": {},
          "execution_count": 54
        }
      ],
      "source": [
        "my_arr=np.arange(10,50)\n",
        "my_arr"
      ]
    },
    {
      "cell_type": "markdown",
      "metadata": {
        "id": "6IzWNvm1Lyu1"
      },
      "source": [
        "#### 8.  Reverse a vector (first element becomes last)"
      ]
    },
    {
      "cell_type": "code",
      "execution_count": 55,
      "metadata": {
        "id": "aW1C2L7OLyu2",
        "colab": {
          "base_uri": "https://localhost:8080/"
        },
        "outputId": "2d9fa58e-c5bc-45e4-a4f9-4bae52abbe87"
      },
      "outputs": [
        {
          "output_type": "stream",
          "name": "stdout",
          "text": [
            "[5 4 3 2 1]\n"
          ]
        }
      ],
      "source": [
        "arr=np.array([1,2,3,4,5])\n",
        "\n",
        "print(np.flip(arr))"
      ]
    },
    {
      "cell_type": "markdown",
      "metadata": {
        "id": "3ffciWgdLyu2"
      },
      "source": [
        "#### 9.  Create a 3x3 matrix with values ranging from 0 to 8"
      ]
    },
    {
      "cell_type": "code",
      "execution_count": 56,
      "metadata": {
        "id": "VoBSBFt2Lyu3",
        "colab": {
          "base_uri": "https://localhost:8080/"
        },
        "outputId": "58c92ec2-9e07-4bd2-9213-9c91e73c2bb3"
      },
      "outputs": [
        {
          "output_type": "execute_result",
          "data": {
            "text/plain": [
              "array([[0, 1, 2],\n",
              "       [3, 4, 5],\n",
              "       [6, 7, 8]])"
            ]
          },
          "metadata": {},
          "execution_count": 56
        }
      ],
      "source": [
        "mat=np.arange(9)\n",
        "mat=mat.reshape(3,3)\n",
        "mat"
      ]
    },
    {
      "cell_type": "markdown",
      "metadata": {
        "id": "AfX9WsdvLyu4"
      },
      "source": [
        "#### 10. Find indices of non-zero elements from \\[1,2,0,0,4,0\\]"
      ]
    },
    {
      "cell_type": "code",
      "execution_count": 57,
      "metadata": {
        "id": "8g2ji48TLyu4",
        "colab": {
          "base_uri": "https://localhost:8080/"
        },
        "outputId": "8b3556a8-f231-4073-c98f-8d7e9617ef09"
      },
      "outputs": [
        {
          "output_type": "execute_result",
          "data": {
            "text/plain": [
              "(array([0, 1, 4]),)"
            ]
          },
          "metadata": {},
          "execution_count": 57
        }
      ],
      "source": [
        "indi=np.nonzero([1,2,0,0,4,0])\n",
        "indi"
      ]
    },
    {
      "cell_type": "markdown",
      "metadata": {
        "id": "4b9iQnAlLyu5"
      },
      "source": [
        "#### 11. Create a 3x3 identity matrix"
      ]
    },
    {
      "cell_type": "code",
      "execution_count": 58,
      "metadata": {
        "id": "nVtf8n_KLyu5",
        "colab": {
          "base_uri": "https://localhost:8080/"
        },
        "outputId": "ff9582b3-282c-4b2c-89fe-2d76d6eb98cf"
      },
      "outputs": [
        {
          "output_type": "execute_result",
          "data": {
            "text/plain": [
              "array([[1., 0., 0.],\n",
              "       [0., 1., 0.],\n",
              "       [0., 0., 1.]])"
            ]
          },
          "metadata": {},
          "execution_count": 58
        }
      ],
      "source": [
        "iden=np.eye(3)\n",
        "iden"
      ]
    },
    {
      "cell_type": "markdown",
      "metadata": {
        "id": "R4sB5O2VLyu6"
      },
      "source": [
        "#### 12. Create a 3x3x3 array with random values"
      ]
    },
    {
      "cell_type": "code",
      "execution_count": 59,
      "metadata": {
        "collapsed": true,
        "id": "17Q3BY4fLyu6",
        "colab": {
          "base_uri": "https://localhost:8080/"
        },
        "outputId": "5ff076c5-0db4-49aa-9571-608429882110"
      },
      "outputs": [
        {
          "output_type": "execute_result",
          "data": {
            "text/plain": [
              "array([[[-1.46084949e+00, -3.66494790e-01, -2.35682388e-01],\n",
              "        [-7.28134991e-01, -1.02365824e+00, -6.42630357e-01],\n",
              "        [ 1.14341424e+00, -1.24235269e+00, -5.24641768e-03]],\n",
              "\n",
              "       [[-1.70730481e-01, -2.50275899e-01,  1.49588802e+00],\n",
              "        [-2.42278927e+00, -1.44327717e+00,  1.09166218e+00],\n",
              "        [ 8.50829623e-01, -2.04764893e+00, -9.17777603e-04]],\n",
              "\n",
              "       [[ 1.17273130e+00, -1.26570013e+00,  3.41097071e-01],\n",
              "        [ 9.88247541e-01,  7.90946912e-01,  1.07181255e+00],\n",
              "        [ 2.77873771e-01, -1.12331129e+00,  4.49664272e-01]]])"
            ]
          },
          "metadata": {},
          "execution_count": 59
        }
      ],
      "source": [
        "ran=np.random.randn(3,3,3)\n",
        "ran"
      ]
    },
    {
      "cell_type": "markdown",
      "metadata": {
        "id": "xospGNtcLyu7"
      },
      "source": [
        "#### 13. Create a 10x10 array with random values and find the minimum and maximum values"
      ]
    },
    {
      "cell_type": "code",
      "execution_count": 61,
      "metadata": {
        "id": "j1_HOmI2Lyu7",
        "colab": {
          "base_uri": "https://localhost:8080/"
        },
        "outputId": "0e600dda-e136-4ee8-e2f9-8cfb9bf38e3f"
      },
      "outputs": [
        {
          "output_type": "execute_result",
          "data": {
            "text/plain": [
              "array([[2.11081641e-01, 7.31436146e-01, 3.67878421e-02, 6.39410858e-01,\n",
              "        6.19236195e-01, 6.08687354e-01, 7.51928033e-02, 5.08355619e-01,\n",
              "        2.45352624e-02, 6.89714520e-01],\n",
              "       [4.18641143e-01, 7.31111754e-01, 8.67177367e-01, 1.66579182e-01,\n",
              "        4.74249547e-01, 4.29058887e-02, 6.20556173e-01, 7.11990691e-01,\n",
              "        4.26515576e-01, 2.77932501e-01],\n",
              "       [3.35940258e-01, 9.48969455e-01, 3.63427284e-01, 5.07377640e-01,\n",
              "        8.61619286e-01, 1.70814907e-01, 1.44630108e-01, 4.00799645e-01,\n",
              "        6.70360845e-01, 3.76673956e-01],\n",
              "       [8.58585848e-01, 8.09095386e-01, 9.85961005e-01, 1.53379330e-01,\n",
              "        1.95538530e-01, 7.93924326e-01, 7.49541705e-01, 1.11303381e-01,\n",
              "        6.23464220e-01, 6.24000905e-01],\n",
              "       [1.06093683e-01, 4.02358400e-02, 6.51905310e-01, 2.51522524e-02,\n",
              "        8.57721308e-01, 6.26811723e-02, 8.98807051e-01, 7.42624352e-01,\n",
              "        2.61224123e-01, 5.93126087e-01],\n",
              "       [8.51585546e-01, 7.14306605e-01, 7.46599209e-01, 2.85566965e-01,\n",
              "        5.69163077e-01, 5.48086141e-01, 5.35921389e-04, 2.15276576e-01,\n",
              "        7.42182183e-01, 5.24269233e-01],\n",
              "       [9.03019216e-01, 2.10981551e-01, 1.55349514e-01, 7.33019959e-01,\n",
              "        2.73247832e-01, 9.90952473e-03, 9.57663183e-01, 9.79847637e-01,\n",
              "        9.59252114e-01, 3.70532321e-01],\n",
              "       [2.09868546e-01, 9.35077433e-01, 5.85995384e-01, 3.50487775e-01,\n",
              "        2.45571066e-01, 5.66681891e-01, 3.63954918e-01, 5.36561120e-01,\n",
              "        4.46764190e-01, 2.13503012e-02],\n",
              "       [9.26010301e-01, 3.01115861e-01, 4.14408819e-01, 5.38269570e-01,\n",
              "        6.04853057e-01, 3.06154936e-01, 3.69595302e-02, 7.00756878e-01,\n",
              "        1.51699436e-01, 6.51643983e-01],\n",
              "       [7.70686492e-01, 5.42561938e-01, 4.74466844e-01, 1.83178712e-01,\n",
              "        1.84664175e-01, 7.40971573e-01, 2.65261664e-01, 6.66303476e-01,\n",
              "        3.17583527e-02, 4.15012359e-01]])"
            ]
          },
          "metadata": {},
          "execution_count": 61
        }
      ],
      "source": [
        "ran=np.random.rand(10,10)\n",
        "ran\n"
      ]
    },
    {
      "cell_type": "code",
      "source": [
        "print(np.max(ran))\n",
        "print(np.min(ran))"
      ],
      "metadata": {
        "colab": {
          "base_uri": "https://localhost:8080/"
        },
        "id": "0zbu424Nby4-",
        "outputId": "208f53fd-e6d5-4dcd-ae46-eb2b4139e059"
      },
      "execution_count": 62,
      "outputs": [
        {
          "output_type": "stream",
          "name": "stdout",
          "text": [
            "0.9859610047174222\n",
            "0.0005359213887675685\n"
          ]
        }
      ]
    },
    {
      "cell_type": "markdown",
      "metadata": {
        "id": "WoT8ljt2Lyu8"
      },
      "source": [
        "#### 14. Create a random vector of size 30 and find the mean value"
      ]
    },
    {
      "cell_type": "code",
      "execution_count": 64,
      "metadata": {
        "id": "V3trtCT6Lyu9",
        "colab": {
          "base_uri": "https://localhost:8080/"
        },
        "outputId": "3e350ea9-62dd-46f9-d12e-d8217298e473"
      },
      "outputs": [
        {
          "output_type": "stream",
          "name": "stdout",
          "text": [
            "0.5239638545460122\n"
          ]
        }
      ],
      "source": [
        "vector=np.random.rand(30)\n",
        "print(np.mean(vector))"
      ]
    },
    {
      "cell_type": "markdown",
      "metadata": {
        "id": "9cHJLkkXLyu9"
      },
      "source": [
        "#### 15. Create a 2d array with 1 on the border and 0 inside"
      ]
    },
    {
      "cell_type": "code",
      "execution_count": 67,
      "metadata": {
        "id": "mvEocwBiLyu-",
        "colab": {
          "base_uri": "https://localhost:8080/"
        },
        "outputId": "e84b4726-5a9c-4715-eeac-8def9fe856b1"
      },
      "outputs": [
        {
          "name": "stdout",
          "output_type": "stream",
          "text": [
            "10\n",
            "10\n"
          ]
        },
        {
          "output_type": "execute_result",
          "data": {
            "text/plain": [
              "array([[1., 1., 1., 1., 1., 1., 1., 1., 1., 1.],\n",
              "       [1., 0., 0., 0., 0., 0., 0., 0., 0., 1.],\n",
              "       [1., 0., 0., 0., 0., 0., 0., 0., 0., 1.],\n",
              "       [1., 0., 0., 0., 0., 0., 0., 0., 0., 1.],\n",
              "       [1., 0., 0., 0., 0., 0., 0., 0., 0., 1.],\n",
              "       [1., 0., 0., 0., 0., 0., 0., 0., 0., 1.],\n",
              "       [1., 0., 0., 0., 0., 0., 0., 0., 0., 1.],\n",
              "       [1., 0., 0., 0., 0., 0., 0., 0., 0., 1.],\n",
              "       [1., 0., 0., 0., 0., 0., 0., 0., 0., 1.],\n",
              "       [1., 1., 1., 1., 1., 1., 1., 1., 1., 1.]])"
            ]
          },
          "metadata": {},
          "execution_count": 67
        }
      ],
      "source": [
        "rows=int(input())\n",
        "cols=int(input())\n",
        "onezero=np.zeros((rows,cols))\n",
        "onezero[0,:]=1\n",
        "onezero[-1,:]=1\n",
        "onezero[:,0]=1\n",
        "onezero[:,-1]=1\n",
        "onezero"
      ]
    },
    {
      "cell_type": "markdown",
      "metadata": {
        "id": "pYOG-YDZLyu_"
      },
      "source": [
        "#### 16. How to add a border (filled with 0's) around an existing array?"
      ]
    },
    {
      "cell_type": "code",
      "execution_count": 80,
      "metadata": {
        "id": "vXpj-Zy5Lyu_",
        "colab": {
          "base_uri": "https://localhost:8080/"
        },
        "outputId": "07792a9d-f245-4fd0-8522-92443a5ca837"
      },
      "outputs": [
        {
          "output_type": "execute_result",
          "data": {
            "text/plain": [
              "array([[0, 0, 0, 0, 0],\n",
              "       [0, 1, 2, 3, 0],\n",
              "       [0, 4, 5, 6, 0],\n",
              "       [0, 7, 8, 9, 0],\n",
              "       [0, 0, 0, 0, 0]])"
            ]
          },
          "metadata": {},
          "execution_count": 80
        }
      ],
      "source": [
        "a=np.arange(1,10)\n",
        "a=a.reshape(3,3)\n",
        "a\n",
        "r,c=a.shape\n",
        "\n",
        "new_arr=np.zeros((r+2,c+2),dtype=a.dtype)\n",
        "new_arr[1:-1,1:-1]=a\n",
        "new_arr"
      ]
    },
    {
      "cell_type": "markdown",
      "metadata": {
        "id": "y5o2fU1jLyvA"
      },
      "source": [
        "#### 17. What is the result of the following expression?"
      ]
    },
    {
      "cell_type": "markdown",
      "metadata": {
        "id": "BYhP4OXSLyvA"
      },
      "source": [
        "```python\n",
        "0 * np.nan\n",
        "np.nan == np.nan\n",
        "np.inf > np.nan\n",
        "np.nan - np.nan\n",
        "np.nan in set([np.nan])\n",
        "0.3 == 3 * 0.1\n",
        "```"
      ]
    },
    {
      "cell_type": "code",
      "execution_count": 82,
      "metadata": {
        "id": "VzpmYN4ALyvB",
        "colab": {
          "base_uri": "https://localhost:8080/"
        },
        "outputId": "7a9131a1-8f1f-4fac-cbc5-359305c23d3e"
      },
      "outputs": [
        {
          "output_type": "stream",
          "name": "stdout",
          "text": [
            "nan\n",
            "False\n",
            "False\n",
            "nan\n",
            "True\n",
            "False\n"
          ]
        }
      ],
      "source": [
        "print(0 * np.nan)\n",
        "print(np.nan == np.nan)\n",
        "print(np.inf > np.nan)\n",
        "print(np.nan - np.nan)\n",
        "print(np.nan in set([np.nan]))\n",
        "print(0.3 == 3 * 0.1)"
      ]
    },
    {
      "cell_type": "markdown",
      "metadata": {
        "id": "_qGSzmqSLyvC"
      },
      "source": [
        "#### 18. Create a 5x5 matrix with values 1,2,3,4 just below the diagonal"
      ]
    },
    {
      "cell_type": "code",
      "execution_count": 83,
      "metadata": {
        "id": "05Ccs1GqLyvC",
        "colab": {
          "base_uri": "https://localhost:8080/"
        },
        "outputId": "3fa6b15f-cd90-4a45-f66f-11eb562095ad"
      },
      "outputs": [
        {
          "output_type": "execute_result",
          "data": {
            "text/plain": [
              "array([[0, 0, 0, 0, 0],\n",
              "       [1, 0, 0, 0, 0],\n",
              "       [0, 2, 0, 0, 0],\n",
              "       [0, 0, 3, 0, 0],\n",
              "       [0, 0, 0, 4, 0]])"
            ]
          },
          "metadata": {},
          "execution_count": 83
        }
      ],
      "source": [
        "from mmap import MAP_PRIVATE\n",
        "val=[1,2,3,4]\n",
        "mat=np.diag(val,k=-1)\n",
        "mat"
      ]
    },
    {
      "cell_type": "markdown",
      "metadata": {
        "id": "DSvjv0ekLyvD"
      },
      "source": [
        "#### 19. Create a 8x8 matrix and fill it with a checkerboard pattern"
      ]
    },
    {
      "cell_type": "code",
      "execution_count": 84,
      "metadata": {
        "id": "mMPTiburLyvW",
        "colab": {
          "base_uri": "https://localhost:8080/"
        },
        "outputId": "72a64606-6fcf-4f47-b893-8a22f47823f1"
      },
      "outputs": [
        {
          "output_type": "execute_result",
          "data": {
            "text/plain": [
              "array([[0, 1, 0, 1, 0, 1, 0, 1],\n",
              "       [1, 0, 1, 0, 1, 0, 1, 0],\n",
              "       [0, 1, 0, 1, 0, 1, 0, 1],\n",
              "       [1, 0, 1, 0, 1, 0, 1, 0],\n",
              "       [0, 1, 0, 1, 0, 1, 0, 1],\n",
              "       [1, 0, 1, 0, 1, 0, 1, 0],\n",
              "       [0, 1, 0, 1, 0, 1, 0, 1],\n",
              "       [1, 0, 1, 0, 1, 0, 1, 0]])"
            ]
          },
          "metadata": {},
          "execution_count": 84
        }
      ],
      "source": [
        "matrix = np.zeros((8, 8), dtype=int)\n",
        "matrix[1::2, ::2] = 1  # Odd rows, even columns\n",
        "matrix[::2, 1::2] = 1  # Even rows, odd columns\n",
        "matrix"
      ]
    },
    {
      "cell_type": "markdown",
      "metadata": {
        "id": "1nwOO_tqLyvX"
      },
      "source": [
        "#### 20. Consider a (6,7,8) shape array, what is the index (x,y,z) of the 100th element?"
      ]
    },
    {
      "cell_type": "code",
      "execution_count": 87,
      "metadata": {
        "id": "B8rzRWRrLyvY",
        "colab": {
          "base_uri": "https://localhost:8080/"
        },
        "outputId": "8fdcb52f-9e40-4c0d-b3d7-3b6b8f312935"
      },
      "outputs": [
        {
          "output_type": "stream",
          "name": "stdout",
          "text": [
            "1 5 3\n",
            "336\n"
          ]
        }
      ],
      "source": [
        "shape=(6,7,8)\n",
        "total_ele=np.prod(shape)\n",
        "l_index=99\n",
        "x=l_index//(shape[1]*shape[2])\n",
        "remain=l_index%(shape[1]*shape[2])\n",
        "y=remain//shape[2]\n",
        "z=remain%shape[2]\n",
        "print(x,y,z)\n",
        "print(total_ele)"
      ]
    },
    {
      "cell_type": "code",
      "source": [],
      "metadata": {
        "id": "4746f0LTr9j0"
      },
      "execution_count": null,
      "outputs": []
    }
  ],
  "metadata": {
    "kernelspec": {
      "display_name": "Python 3",
      "language": "python",
      "name": "python3"
    },
    "language_info": {
      "codemirror_mode": {
        "name": "ipython",
        "version": 3
      },
      "file_extension": ".py",
      "mimetype": "text/x-python",
      "name": "python",
      "nbconvert_exporter": "python",
      "pygments_lexer": "ipython3",
      "version": "3.7.3"
    },
    "colab": {
      "provenance": []
    }
  },
  "nbformat": 4,
  "nbformat_minor": 0
}